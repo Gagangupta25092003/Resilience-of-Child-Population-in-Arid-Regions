{
 "cells": [
  {
   "cell_type": "code",
   "execution_count": 1,
   "metadata": {},
   "outputs": [
    {
     "name": "stdout",
     "output_type": "stream",
     "text": [
      "Collecting pyreadstat\n",
      "  Downloading pyreadstat-1.2.8-cp310-cp310-win_amd64.whl.metadata (1.1 kB)\n",
      "Requirement already satisfied: matplotlib in c:\\users\\hp\\appdata\\local\\programs\\python\\python310\\lib\\site-packages (3.9.2)\n",
      "Collecting seaborn\n",
      "  Downloading seaborn-0.13.2-py3-none-any.whl.metadata (5.4 kB)\n",
      "Collecting pandas>=1.2.0 (from pyreadstat)\n",
      "  Downloading pandas-2.2.3-cp310-cp310-win_amd64.whl.metadata (19 kB)\n",
      "Requirement already satisfied: contourpy>=1.0.1 in c:\\users\\hp\\appdata\\local\\programs\\python\\python310\\lib\\site-packages (from matplotlib) (1.3.1)\n",
      "Requirement already satisfied: cycler>=0.10 in c:\\users\\hp\\appdata\\local\\programs\\python\\python310\\lib\\site-packages (from matplotlib) (0.12.1)\n",
      "Requirement already satisfied: fonttools>=4.22.0 in c:\\users\\hp\\appdata\\local\\programs\\python\\python310\\lib\\site-packages (from matplotlib) (4.55.0)\n",
      "Requirement already satisfied: kiwisolver>=1.3.1 in c:\\users\\hp\\appdata\\local\\programs\\python\\python310\\lib\\site-packages (from matplotlib) (1.4.7)\n",
      "Requirement already satisfied: numpy>=1.23 in c:\\users\\hp\\appdata\\local\\programs\\python\\python310\\lib\\site-packages (from matplotlib) (1.24.4)\n",
      "Requirement already satisfied: packaging>=20.0 in c:\\users\\hp\\appdata\\local\\programs\\python\\python310\\lib\\site-packages (from matplotlib) (24.1)\n",
      "Requirement already satisfied: pillow>=8 in c:\\users\\hp\\appdata\\local\\programs\\python\\python310\\lib\\site-packages (from matplotlib) (11.0.0)\n",
      "Requirement already satisfied: pyparsing>=2.3.1 in c:\\users\\hp\\appdata\\local\\programs\\python\\python310\\lib\\site-packages (from matplotlib) (3.2.0)\n",
      "Requirement already satisfied: python-dateutil>=2.7 in c:\\users\\hp\\appdata\\local\\programs\\python\\python310\\lib\\site-packages (from matplotlib) (2.9.0.post0)\n",
      "Collecting pytz>=2020.1 (from pandas>=1.2.0->pyreadstat)\n",
      "  Downloading pytz-2024.2-py2.py3-none-any.whl.metadata (22 kB)\n",
      "Collecting tzdata>=2022.7 (from pandas>=1.2.0->pyreadstat)\n",
      "  Downloading tzdata-2024.2-py2.py3-none-any.whl.metadata (1.4 kB)\n",
      "Requirement already satisfied: six>=1.5 in c:\\users\\hp\\appdata\\local\\programs\\python\\python310\\lib\\site-packages (from python-dateutil>=2.7->matplotlib) (1.16.0)\n",
      "Downloading pyreadstat-1.2.8-cp310-cp310-win_amd64.whl (2.4 MB)\n",
      "   ---------------------------------------- 0.0/2.4 MB ? eta -:--:--\n",
      "   ------------- -------------------------- 0.8/2.4 MB 4.8 MB/s eta 0:00:01\n",
      "   ---------------------------------------  2.4/2.4 MB 6.1 MB/s eta 0:00:01\n",
      "   ---------------------------------------- 2.4/2.4 MB 5.7 MB/s eta 0:00:00\n",
      "Downloading seaborn-0.13.2-py3-none-any.whl (294 kB)\n",
      "Downloading pandas-2.2.3-cp310-cp310-win_amd64.whl (11.6 MB)\n",
      "   ---------------------------------------- 0.0/11.6 MB ? eta -:--:--\n",
      "   -- ------------------------------------- 0.8/11.6 MB 5.6 MB/s eta 0:00:02\n",
      "   ---- ----------------------------------- 1.3/11.6 MB 3.0 MB/s eta 0:00:04\n",
      "   -------- ------------------------------- 2.4/11.6 MB 4.1 MB/s eta 0:00:03\n",
      "   ---------- ----------------------------- 3.1/11.6 MB 4.0 MB/s eta 0:00:03\n",
      "   ----------- ---------------------------- 3.4/11.6 MB 3.6 MB/s eta 0:00:03\n",
      "   --------------- ------------------------ 4.5/11.6 MB 3.6 MB/s eta 0:00:02\n",
      "   ------------------ --------------------- 5.5/11.6 MB 3.8 MB/s eta 0:00:02\n",
      "   ------------------------ --------------- 7.1/11.6 MB 4.3 MB/s eta 0:00:02\n",
      "   ----------------------------- ---------- 8.7/11.6 MB 4.7 MB/s eta 0:00:01\n",
      "   ---------------------------------- ----- 10.0/11.6 MB 4.9 MB/s eta 0:00:01\n",
      "   ------------------------------------ --- 10.5/11.6 MB 4.7 MB/s eta 0:00:01\n",
      "   ------------------------------------- -- 11.0/11.6 MB 4.4 MB/s eta 0:00:01\n",
      "   -------------------------------------- - 11.3/11.6 MB 4.3 MB/s eta 0:00:01\n",
      "   ---------------------------------------- 11.6/11.6 MB 4.1 MB/s eta 0:00:00\n",
      "Downloading pytz-2024.2-py2.py3-none-any.whl (508 kB)\n",
      "Downloading tzdata-2024.2-py2.py3-none-any.whl (346 kB)\n",
      "Installing collected packages: pytz, tzdata, pandas, seaborn, pyreadstat\n",
      "Successfully installed pandas-2.2.3 pyreadstat-1.2.8 pytz-2024.2 seaborn-0.13.2 tzdata-2024.2\n"
     ]
    },
    {
     "name": "stderr",
     "output_type": "stream",
     "text": [
      "WARNING: Ignoring invalid distribution - (c:\\users\\hp\\appdata\\local\\programs\\python\\python310\\lib\\site-packages)\n",
      "WARNING: Ignoring invalid distribution -lagents (c:\\users\\hp\\appdata\\local\\programs\\python\\python310\\lib\\site-packages)\n",
      "WARNING: Ignoring invalid distribution - (c:\\users\\hp\\appdata\\local\\programs\\python\\python310\\lib\\site-packages)\n",
      "WARNING: Ignoring invalid distribution -lagents (c:\\users\\hp\\appdata\\local\\programs\\python\\python310\\lib\\site-packages)\n",
      "WARNING: Ignoring invalid distribution - (c:\\users\\hp\\appdata\\local\\programs\\python\\python310\\lib\\site-packages)\n",
      "WARNING: Ignoring invalid distribution -lagents (c:\\users\\hp\\appdata\\local\\programs\\python\\python310\\lib\\site-packages)\n"
     ]
    }
   ],
   "source": [
    "!pip install pyreadstat matplotlib seaborn\n"
   ]
  },
  {
   "cell_type": "code",
   "execution_count": 2,
   "metadata": {},
   "outputs": [],
   "source": [
    "import pyreadstat\n",
    "import pandas as pd"
   ]
  },
  {
   "cell_type": "code",
   "execution_count": null,
   "metadata": {},
   "outputs": [],
   "source": [
    "df, meta = pyreadstat.read_dta(\"./IAKR7EFL.DTA\")\n"
   ]
  },
  {
   "cell_type": "code",
   "execution_count": 6,
   "metadata": {},
   "outputs": [
    {
     "data": {
      "text/plain": [
       "<bound method NDFrame.head of                  caseid  midx v000  v001  v002  v003  v004    v005  v006  \\\n",
       "0         0100101399 02     1  IA7   113    99     2   113  193444     9   \n",
       "1         0100101357 02     1  IA7   113    57     2   113  193444     9   \n",
       "2         0100101395 02     1  IA7   113    95     2   113  193444     9   \n",
       "3         0100101358 04     1  IA7   113    58     4   113  193444     9   \n",
       "4         0100101380 02     1  IA7   113    80     2   113  193444     9   \n",
       "...                 ...   ...  ...   ...   ...   ...   ...     ...   ...   \n",
       "232915    3700401542 04     1  IA7   415    42     4   415   51611     9   \n",
       "232916    3700401583 04     1  IA7   415    83     4   415   51611     9   \n",
       "232917    3700401546 02     1  IA7   415    46     2   415   51611     9   \n",
       "232918    3700401554 02     1  IA7   415    54     2   415   51611     9   \n",
       "232919    3700401592 04     1  IA7   415    92     4   415   51611     9   \n",
       "\n",
       "        v007  ...  s563  s564  s565  s566a  s566b  s566c  s567  s568a  s568b  \\\n",
       "0       2019  ...   NaN   NaN     0    NaN    NaN    NaN     0    NaN    NaN   \n",
       "1       2019  ...     0   NaN     1      1      0      0     1      1      0   \n",
       "2       2019  ...     3     1     1      1      1      1     1      1      1   \n",
       "3       2019  ...     0   NaN     1      1      0      0     1      1      0   \n",
       "4       2019  ...   NaN   NaN     0    NaN    NaN    NaN     0    NaN    NaN   \n",
       "...      ...  ...   ...   ...   ...    ...    ...    ...   ...    ...    ...   \n",
       "232915  2019  ...     2     1     1      1      1      1     1      1      1   \n",
       "232916  2019  ...   NaN   NaN     0    NaN    NaN    NaN     0    NaN    NaN   \n",
       "232917  2019  ...   NaN   NaN     0    NaN    NaN    NaN     0    NaN    NaN   \n",
       "232918  2019  ...   NaN   NaN     1      1      1      1     1      1      1   \n",
       "232919  2019  ...   NaN   NaN     0    NaN    NaN    NaN     0    NaN    NaN   \n",
       "\n",
       "        s568c  \n",
       "0         NaN  \n",
       "1           0  \n",
       "2           1  \n",
       "3           0  \n",
       "4         NaN  \n",
       "...       ...  \n",
       "232915      1  \n",
       "232916    NaN  \n",
       "232917    NaN  \n",
       "232918      1  \n",
       "232919    NaN  \n",
       "\n",
       "[232920 rows x 1644 columns]>"
      ]
     },
     "execution_count": 6,
     "metadata": {},
     "output_type": "execute_result"
    }
   ],
   "source": [
    "df.head"
   ]
  },
  {
   "cell_type": "code",
   "execution_count": 7,
   "metadata": {},
   "outputs": [
    {
     "data": {
      "text/plain": [
       "<bound method NDFrame.head of            Application     C:\\countries\\IA7E\\KRFREQFL.bch\n",
       "0                                   Type            BATCH\n",
       "1          Input Data      C:\\countries\\IA7E\\IAKR7EFL.DAT\n",
       "2                            Date            Mar 19, 2023\n",
       "3                                Start Time      04:56:22\n",
       "4                                End Time        05:01:07\n",
       "...                                                   ...\n",
       "631254  * Statistics : 1003 numeric categories. Min -5...\n",
       "631255                 Mean: 352.57, Std.Dev: 2016.641...\n",
       "631256                 Mode: 9998, Median: -57 (-56.2783)\n",
       "631257  * SumsNumCats: (freq) 211003.0, (cat*freq) 743...\n",
       "631258                               ... end of frequency\n",
       "\n",
       "[631259 rows x 1 columns]>"
      ]
     },
     "execution_count": 7,
     "metadata": {},
     "output_type": "execute_result"
    }
   ],
   "source": [
    "freq_data = pd.read_csv(\"IAKR7EFL.FRQ\", delimiter=\"\\t\")  # Adjust delimiter based on the actual format\n",
    "freq_data.head"
   ]
  },
  {
   "cell_type": "code",
   "execution_count": 8,
   "metadata": {},
   "outputs": [
    {
     "data": {
      "text/plain": [
       "<bound method NDFrame.head of            Application     C:\\countries\\IA7E\\KRFREQFL.bch\n",
       "0                                   Type            BATCH\n",
       "1          Input Data      C:\\countries\\IA7E\\IAKR7EFL.DAT\n",
       "2                            Date            Mar 18, 2023\n",
       "3                                Start Time      23:47:46\n",
       "4                                End Time        23:52:21\n",
       "...                                                   ...\n",
       "631254  * Statistics : 1003 numeric categories. Min -5...\n",
       "631255                 Mean: 326.05, Std.Dev: 1970.662...\n",
       "631256                 Mode: 9998, Median: -64 (-63.6738)\n",
       "631257  * SumsNumCats: (freq) 206422.0, (cat*freq) 673...\n",
       "631258                               ... end of frequency\n",
       "\n",
       "[631259 rows x 1 columns]>"
      ]
     },
     "execution_count": 8,
     "metadata": {},
     "output_type": "execute_result"
    }
   ],
   "source": [
    "freq_weights = pd.read_csv(\"IAKR7EFL.FRW\", delimiter=\"\\t\")  # Adjust as necessary\n",
    "freq_weights.head"
   ]
  },
  {
   "cell_type": "code",
   "execution_count": null,
   "metadata": {},
   "outputs": [],
   "source": []
  }
 ],
 "metadata": {
  "kernelspec": {
   "display_name": "Python 3",
   "language": "python",
   "name": "python3"
  },
  "language_info": {
   "codemirror_mode": {
    "name": "ipython",
    "version": 3
   },
   "file_extension": ".py",
   "mimetype": "text/x-python",
   "name": "python",
   "nbconvert_exporter": "python",
   "pygments_lexer": "ipython3",
   "version": "3.10.0"
  }
 },
 "nbformat": 4,
 "nbformat_minor": 2
}
